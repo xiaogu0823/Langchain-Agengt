{
 "cells": [
  {
   "cell_type": "code",
   "execution_count": 12,
   "id": "609c12c5",
   "metadata": {},
   "outputs": [
    {
     "name": "stdout",
     "output_type": "stream",
     "text": [
      "环境变量验证: API_KEY = 已设置\n",
      "**AI学习文档（100字）**  \n",
      "\n",
      "人工智能（AI）是模拟人类智能的计算机系统，涵盖机器学习（ML）、深度学习（DL）和自然语言处理（NLP）等方向。学习路径：  \n",
      "1. **基础**：数学（线性代数、概率）、Python编程。  \n",
      "2. **核心**：ML算法（回归、分类、聚类）、框架（TensorFlow/PyTorch）。  \n",
      "3. **进阶**：神经网络、CNN/RNN、Transformer模型。  \n",
      "4. **应用**：计算机视觉、NLP、强化学习。  \n",
      "推荐资源：Coursera《机器学习》（Andrew Ng）、Fast.ai、arXiv论文。实践项目驱动学习，如Kaggle竞赛。\n"
     ]
    }
   ],
   "source": [
    "# from langchain.llms import OpenAI弃用\n",
    "from langchain_openai import ChatOpenAI\n",
    "from langchain_core.prompts import ChatPromptTemplate\n",
    "# from langchain_core.output_parsers import StrPutParser弃用\n",
    "from langchain_core.output_parsers import StrOutputParser\n",
    "import os\n",
    "from dotenv import load_dotenv\n",
    "\n",
    "# 加载环境变量\n",
    "load_dotenv()\n",
    "\n",
    "# 验证环境变量是否被正确读取\n",
    "api_key = os.getenv(\"DEEPSEEK_API_KEY\")\n",
    "base_url = os.getenv(\"DEEPSEEK_BASE_URL\")\n",
    "print(f\"环境变量验证: API_KEY = {'已设置' if api_key else '未设置'}\")\n",
    "\n",
    "# base_url = \"https://api.deepseek.com/v1\"\n",
    "# api_key = \"sk-8615b7b0f4f241239ef4c80a716b7588\"\n",
    "\n",
    "llm = ChatOpenAI(\n",
    "    model=\"deepseek-chat\",\n",
    "    temperature=0,\n",
    "    openai_api_base=base_url,\n",
    "    openai_api_key=api_key,\n",
    "\n",
    ")\n",
    "\n",
    "prompt = ChatPromptTemplate.from_messages(\n",
    "    [\n",
    "        (\"system\", \"你是一个AI专家\"),\n",
    "        (\"user\", \"{input}\"),\n",
    "    ]\n",
    ")\n",
    "\n",
    "# 格式化\n",
    "output_parser = StrOutputParser()\n",
    "# 通过langchain的链式调用，生成chain\n",
    "chain = prompt | llm  | output_parser\n",
    "# llm.predict('给我找一首诗，叫春晓')\n",
    "result = chain.invoke(input='请给出100字左右的AI学习文档')\n",
    "print(result)"
   ]
  },
  {
   "cell_type": "markdown",
   "id": "52814cf5",
   "metadata": {},
   "source": []
  }
 ],
 "metadata": {
  "kernelspec": {
   "display_name": "langchain",
   "language": "python",
   "name": "python3"
  },
  "language_info": {
   "codemirror_mode": {
    "name": "ipython",
    "version": 3
   },
   "file_extension": ".py",
   "mimetype": "text/x-python",
   "name": "python",
   "nbconvert_exporter": "python",
   "pygments_lexer": "ipython3",
   "version": "3.11.13"
  }
 },
 "nbformat": 4,
 "nbformat_minor": 5
}
